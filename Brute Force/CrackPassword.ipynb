{
 "metadata": {
  "language_info": {
   "codemirror_mode": {
    "name": "ipython",
    "version": 3
   },
   "file_extension": ".py",
   "mimetype": "text/x-python",
   "name": "python",
   "nbconvert_exporter": "python",
   "pygments_lexer": "ipython3",
   "version": "3.8.3-final"
  },
  "orig_nbformat": 2,
  "kernelspec": {
   "name": "python_defaultSpec_1599796013032",
   "display_name": "Python 3.8.3 64-bit ('base': conda)"
  }
 },
 "nbformat": 4,
 "nbformat_minor": 2,
 "cells": [
  {
   "cell_type": "code",
   "execution_count": 13,
   "metadata": {
    "tags": []
   },
   "outputs": [
    {
     "output_type": "stream",
     "name": "stdout",
     "text": "zxxxz\n"
    }
   ],
   "source": [
    "import time \n",
    "import random\n",
    "import itertools as it\n",
    "import matplotlib.pyplot as plt \n",
    "\n",
    "A = ['x', 'y', 'z']\n",
    "m = 5\n",
    "password = ''.join([random.choice(A) for i in range(m)])\n",
    "print(password)"
   ]
  },
  {
   "cell_type": "code",
   "execution_count": 14,
   "metadata": {},
   "outputs": [],
   "source": [
    "def crackPassword(A, m):\n",
    "    for attemp in it.product(A, repeat=m):\n",
    "        attemp=''.join(attemp)\n",
    "        if attemp==password:\n",
    "            print('The password is:', attemp)\n",
    "            return"
   ]
  },
  {
   "cell_type": "code",
   "execution_count": 15,
   "metadata": {
    "tags": []
   },
   "outputs": [
    {
     "output_type": "stream",
     "name": "stdout",
     "text": "The password is: zxxxz\n"
    }
   ],
   "source": [
    "crackPassword(A, m)"
   ]
  },
  {
   "cell_type": "code",
   "execution_count": null,
   "metadata": {},
   "outputs": [],
   "source": []
  }
 ]
}