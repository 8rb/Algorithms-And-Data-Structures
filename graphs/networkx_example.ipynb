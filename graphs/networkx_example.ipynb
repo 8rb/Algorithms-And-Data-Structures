{
 "cells": [
  {
   "cell_type": "code",
   "execution_count": 1,
   "metadata": {},
   "outputs": [
    {
     "output_type": "display_data",
     "data": {
      "text/plain": "<Figure size 432x288 with 1 Axes>",
      "image/svg+xml": "<?xml version=\"1.0\" encoding=\"utf-8\" standalone=\"no\"?>\r\n<!DOCTYPE svg PUBLIC \"-//W3C//DTD SVG 1.1//EN\"\r\n  \"http://www.w3.org/Graphics/SVG/1.1/DTD/svg11.dtd\">\r\n<!-- Created with matplotlib (https://matplotlib.org/) -->\r\n<svg height=\"302.4pt\" version=\"1.1\" viewBox=\"0 0 446.4 302.4\" width=\"446.4pt\" xmlns=\"http://www.w3.org/2000/svg\" xmlns:xlink=\"http://www.w3.org/1999/xlink\">\r\n <defs>\r\n  <style type=\"text/css\">\r\n*{stroke-linecap:butt;stroke-linejoin:round;}\r\n  </style>\r\n </defs>\r\n <g id=\"figure_1\">\r\n  <g id=\"patch_1\">\r\n   <path d=\"M 0 302.4 \r\nL 446.4 302.4 \r\nL 446.4 0 \r\nL 0 0 \r\nz\r\n\" style=\"fill:#ffffff;\"/>\r\n  </g>\r\n  <g id=\"axes_1\">\r\n   <g id=\"patch_2\">\r\n    <path clip-path=\"url(#p7ed44f75a1)\" d=\"M 106.587088 171.484468 \r\nQ 106.901114 211.164697 107.206292 249.726928 \r\n\" style=\"fill:none;stroke:#000000;stroke-linecap:round;stroke-opacity:0.75;\"/>\r\n    <path clip-path=\"url(#p7ed44f75a1)\" d=\"M 109.174574 245.711226 \r\nL 107.206292 249.726928 \r\nL 105.1747 245.742881 \r\nL 109.174574 245.711226 \r\nz\r\n\" style=\"fill-opacity:0.75;stroke:#000000;stroke-linecap:round;stroke-opacity:0.75;\"/>\r\n   </g>\r\n   <g id=\"patch_3\">\r\n    <path clip-path=\"url(#p7ed44f75a1)\" d=\"M 106.587088 171.484468 \r\nQ 79.569346 110.686302 53.005629 50.909831 \r\n\" style=\"fill:none;stroke:#000000;stroke-linecap:round;stroke-opacity:0.75;\"/>\r\n    <path clip-path=\"url(#p7ed44f75a1)\" d=\"M 52.802334 55.377344 \r\nL 53.005629 50.909831 \r\nL 56.457662 53.752974 \r\nL 52.802334 55.377344 \r\nz\r\n\" style=\"fill-opacity:0.75;stroke:#000000;stroke-linecap:round;stroke-opacity:0.75;\"/>\r\n   </g>\r\n   <g id=\"patch_4\">\r\n    <path clip-path=\"url(#p7ed44f75a1)\" d=\"M 107.368379 270.208264 \r\nQ 78.494153 160.56471 49.90465 52.002327 \r\n\" style=\"fill:none;stroke:#000000;stroke-linecap:round;stroke-opacity:0.75;\"/>\r\n    <path clip-path=\"url(#p7ed44f75a1)\" d=\"M 48.989245 56.379773 \r\nL 49.90465 52.002327 \r\nL 52.857364 55.361118 \r\nL 48.989245 56.379773 \r\nz\r\n\" style=\"fill-opacity:0.75;stroke:#000000;stroke-linecap:round;stroke-opacity:0.75;\"/>\r\n   </g>\r\n   <g id=\"patch_5\">\r\n    <path clip-path=\"url(#p7ed44f75a1)\" d=\"M 401.712397 177.038004 \r\nQ 263.772323 220.700901 126.89816 264.0264 \r\n\" style=\"fill:none;stroke:#000000;stroke-linecap:round;stroke-opacity:0.75;\"/>\r\n    <path clip-path=\"url(#p7ed44f75a1)\" d=\"M 131.315228 264.726046 \r\nL 126.89816 264.0264 \r\nL 130.108117 260.912532 \r\nL 131.315228 264.726046 \r\nz\r\n\" style=\"fill-opacity:0.75;stroke:#000000;stroke-linecap:round;stroke-opacity:0.75;\"/>\r\n   </g>\r\n   <g id=\"patch_6\">\r\n    <path clip-path=\"url(#p7ed44f75a1)\" d=\"M 401.712397 177.038004 \r\nQ 232.171109 108.254482 63.665839 39.891275 \r\n\" style=\"fill:none;stroke:#000000;stroke-linecap:round;stroke-opacity:0.75;\"/>\r\n    <path clip-path=\"url(#p7ed44f75a1)\" d=\"M 66.620526 43.248331 \r\nL 63.665839 39.891275 \r\nL 68.124296 39.541759 \r\nL 66.620526 43.248331 \r\nz\r\n\" style=\"fill-opacity:0.75;stroke:#000000;stroke-linecap:round;stroke-opacity:0.75;\"/>\r\n   </g>\r\n   <g id=\"patch_7\">\r\n    <path clip-path=\"url(#p7ed44f75a1)\" d=\"M 44.687603 32.191736 \r\nQ 71.705346 92.989901 98.269063 152.766372 \r\n\" style=\"fill:none;stroke:#000000;stroke-linecap:round;stroke-opacity:0.75;\"/>\r\n    <path clip-path=\"url(#p7ed44f75a1)\" d=\"M 98.472357 148.298859 \r\nL 98.269063 152.766372 \r\nL 94.817029 149.923229 \r\nL 98.472357 148.298859 \r\nz\r\n\" style=\"fill-opacity:0.75;stroke:#000000;stroke-linecap:round;stroke-opacity:0.75;\"/>\r\n   </g>\r\n   <g id=\"PathCollection_1\">\r\n    <defs>\r\n     <path d=\"M 0 19.364917 \r\nC 5.135636 19.364917 10.061621 17.324507 13.693064 13.693064 \r\nC 17.324507 10.061621 19.364917 5.135636 19.364917 0 \r\nC 19.364917 -5.135636 17.324507 -10.061621 13.693064 -13.693064 \r\nC 10.061621 -17.324507 5.135636 -19.364917 0 -19.364917 \r\nC -5.135636 -19.364917 -10.061621 -17.324507 -13.693064 -13.693064 \r\nC -17.324507 -10.061621 -19.364917 -5.135636 -19.364917 0 \r\nC -19.364917 5.135636 -17.324507 10.061621 -13.693064 13.693064 \r\nC -10.061621 17.324507 -5.135636 19.364917 0 19.364917 \r\nz\r\n\" id=\"m9c82a18800\" style=\"stroke:#ffa500;stroke-opacity:0.75;\"/>\r\n    </defs>\r\n    <g clip-path=\"url(#p7ed44f75a1)\">\r\n     <use style=\"fill:#ffa500;fill-opacity:0.75;stroke:#ffa500;stroke-opacity:0.75;\" x=\"106.587088\" xlink:href=\"#m9c82a18800\" y=\"171.484468\"/>\r\n     <use style=\"fill:#ffa500;fill-opacity:0.75;stroke:#ffa500;stroke-opacity:0.75;\" x=\"107.368379\" xlink:href=\"#m9c82a18800\" y=\"270.208264\"/>\r\n     <use style=\"fill:#ffa500;fill-opacity:0.75;stroke:#ffa500;stroke-opacity:0.75;\" x=\"401.712397\" xlink:href=\"#m9c82a18800\" y=\"177.038004\"/>\r\n     <use style=\"fill:#ffa500;fill-opacity:0.75;stroke:#ffa500;stroke-opacity:0.75;\" x=\"44.687603\" xlink:href=\"#m9c82a18800\" y=\"32.191736\"/>\r\n    </g>\r\n   </g>\r\n   <g id=\"text_1\">\r\n    <g clip-path=\"url(#p7ed44f75a1)\">\r\n     <!-- 0 -->\r\n     <defs>\r\n      <path d=\"M 31.78125 66.40625 \r\nQ 24.171875 66.40625 20.328125 58.90625 \r\nQ 16.5 51.421875 16.5 36.375 \r\nQ 16.5 21.390625 20.328125 13.890625 \r\nQ 24.171875 6.390625 31.78125 6.390625 \r\nQ 39.453125 6.390625 43.28125 13.890625 \r\nQ 47.125 21.390625 47.125 36.375 \r\nQ 47.125 51.421875 43.28125 58.90625 \r\nQ 39.453125 66.40625 31.78125 66.40625 \r\nz\r\nM 31.78125 74.21875 \r\nQ 44.046875 74.21875 50.515625 64.515625 \r\nQ 56.984375 54.828125 56.984375 36.375 \r\nQ 56.984375 17.96875 50.515625 8.265625 \r\nQ 44.046875 -1.421875 31.78125 -1.421875 \r\nQ 19.53125 -1.421875 13.0625 8.265625 \r\nQ 6.59375 17.96875 6.59375 36.375 \r\nQ 6.59375 54.828125 13.0625 64.515625 \r\nQ 19.53125 74.21875 31.78125 74.21875 \r\nz\r\n\" id=\"DejaVuSans-48\"/>\r\n     </defs>\r\n     <g style=\"opacity:0.75;\" transform=\"translate(102.769588 174.795718)scale(0.12 -0.12)\">\r\n      <use xlink:href=\"#DejaVuSans-48\"/>\r\n     </g>\r\n    </g>\r\n   </g>\r\n   <g id=\"text_2\">\r\n    <g clip-path=\"url(#p7ed44f75a1)\">\r\n     <!-- 1 -->\r\n     <defs>\r\n      <path d=\"M 12.40625 8.296875 \r\nL 28.515625 8.296875 \r\nL 28.515625 63.921875 \r\nL 10.984375 60.40625 \r\nL 10.984375 69.390625 \r\nL 28.421875 72.90625 \r\nL 38.28125 72.90625 \r\nL 38.28125 8.296875 \r\nL 54.390625 8.296875 \r\nL 54.390625 0 \r\nL 12.40625 0 \r\nz\r\n\" id=\"DejaVuSans-49\"/>\r\n     </defs>\r\n     <g style=\"opacity:0.75;\" transform=\"translate(103.550879 273.519514)scale(0.12 -0.12)\">\r\n      <use xlink:href=\"#DejaVuSans-49\"/>\r\n     </g>\r\n    </g>\r\n   </g>\r\n   <g id=\"text_3\">\r\n    <g clip-path=\"url(#p7ed44f75a1)\">\r\n     <!-- 2 -->\r\n     <defs>\r\n      <path d=\"M 19.1875 8.296875 \r\nL 53.609375 8.296875 \r\nL 53.609375 0 \r\nL 7.328125 0 \r\nL 7.328125 8.296875 \r\nQ 12.9375 14.109375 22.625 23.890625 \r\nQ 32.328125 33.6875 34.8125 36.53125 \r\nQ 39.546875 41.84375 41.421875 45.53125 \r\nQ 43.3125 49.21875 43.3125 52.78125 \r\nQ 43.3125 58.59375 39.234375 62.25 \r\nQ 35.15625 65.921875 28.609375 65.921875 \r\nQ 23.96875 65.921875 18.8125 64.3125 \r\nQ 13.671875 62.703125 7.8125 59.421875 \r\nL 7.8125 69.390625 \r\nQ 13.765625 71.78125 18.9375 73 \r\nQ 24.125 74.21875 28.421875 74.21875 \r\nQ 39.75 74.21875 46.484375 68.546875 \r\nQ 53.21875 62.890625 53.21875 53.421875 \r\nQ 53.21875 48.921875 51.53125 44.890625 \r\nQ 49.859375 40.875 45.40625 35.40625 \r\nQ 44.1875 33.984375 37.640625 27.21875 \r\nQ 31.109375 20.453125 19.1875 8.296875 \r\nz\r\n\" id=\"DejaVuSans-50\"/>\r\n     </defs>\r\n     <g style=\"opacity:0.75;\" transform=\"translate(397.894897 180.349254)scale(0.12 -0.12)\">\r\n      <use xlink:href=\"#DejaVuSans-50\"/>\r\n     </g>\r\n    </g>\r\n   </g>\r\n   <g id=\"text_4\">\r\n    <g clip-path=\"url(#p7ed44f75a1)\">\r\n     <!-- 3 -->\r\n     <defs>\r\n      <path d=\"M 40.578125 39.3125 \r\nQ 47.65625 37.796875 51.625 33 \r\nQ 55.609375 28.21875 55.609375 21.1875 \r\nQ 55.609375 10.40625 48.1875 4.484375 \r\nQ 40.765625 -1.421875 27.09375 -1.421875 \r\nQ 22.515625 -1.421875 17.65625 -0.515625 \r\nQ 12.796875 0.390625 7.625 2.203125 \r\nL 7.625 11.71875 \r\nQ 11.71875 9.328125 16.59375 8.109375 \r\nQ 21.484375 6.890625 26.8125 6.890625 \r\nQ 36.078125 6.890625 40.9375 10.546875 \r\nQ 45.796875 14.203125 45.796875 21.1875 \r\nQ 45.796875 27.640625 41.28125 31.265625 \r\nQ 36.765625 34.90625 28.71875 34.90625 \r\nL 20.21875 34.90625 \r\nL 20.21875 43.015625 \r\nL 29.109375 43.015625 \r\nQ 36.375 43.015625 40.234375 45.921875 \r\nQ 44.09375 48.828125 44.09375 54.296875 \r\nQ 44.09375 59.90625 40.109375 62.90625 \r\nQ 36.140625 65.921875 28.71875 65.921875 \r\nQ 24.65625 65.921875 20.015625 65.03125 \r\nQ 15.375 64.15625 9.8125 62.3125 \r\nL 9.8125 71.09375 \r\nQ 15.4375 72.65625 20.34375 73.4375 \r\nQ 25.25 74.21875 29.59375 74.21875 \r\nQ 40.828125 74.21875 47.359375 69.109375 \r\nQ 53.90625 64.015625 53.90625 55.328125 \r\nQ 53.90625 49.265625 50.4375 45.09375 \r\nQ 46.96875 40.921875 40.578125 39.3125 \r\nz\r\n\" id=\"DejaVuSans-51\"/>\r\n     </defs>\r\n     <g style=\"opacity:0.75;\" transform=\"translate(40.870103 35.502986)scale(0.12 -0.12)\">\r\n      <use xlink:href=\"#DejaVuSans-51\"/>\r\n     </g>\r\n    </g>\r\n   </g>\r\n  </g>\r\n </g>\r\n <defs>\r\n  <clipPath id=\"p7ed44f75a1\">\r\n   <rect height=\"288\" width=\"432\" x=\"7.2\" y=\"7.2\"/>\r\n  </clipPath>\r\n </defs>\r\n</svg>\r\n",
      "image/png": "[encoded data removed]"
     },
     "metadata": {}
    }
   ],
   "source": [
    "import numpy as np\n",
    "import networkx as nx\n",
    "\n",
    "G = [[0, 1, 0, 1], \n",
    "     [0, 0, 0, 1], \n",
    "     [0, 1, 0, 1], \n",
    "     [1, 0, 0, 0]]\n",
    "\n",
    "def showG(G, directed=True):\n",
    "    g = nx.DiGraph() if directed else nx.Graph()\n",
    "    n = len(G)\n",
    "    for u in range(n):\n",
    "        g.add_node(u)\n",
    "    for u in range(n):\n",
    "        for v in range(n):\n",
    "            if G[u][v] != 0:\n",
    "                g.add_edge(u, v)\n",
    "    nx.draw(g, with_labels = True, node_color = 'orange', node_size=1500, alpha=.75)\n",
    "\n",
    "showG(G)"
   ]
  },
  {
   "cell_type": "code",
   "execution_count": 2,
   "metadata": {
    "tags": []
   },
   "outputs": [
    {
     "output_type": "stream",
     "name": "stdout",
     "text": "Writing graph1.txt\n"
    }
   ],
   "source": [
    "%%writefile graph1.txt\n",
    "0 1 0 1\n",
    "0 0 0 1\n",
    "0 1 0 1\n",
    "1 0 0 0"
   ]
  },
  {
   "cell_type": "code",
   "execution_count": 3,
   "metadata": {},
   "outputs": [],
   "source": [
    "def readAM(filename):\n",
    "    with open(filename) as f:\n",
    "        G = []\n",
    "        for line in f:\n",
    "            G.append([int(u) for u in line.strip().split(' ')])\n",
    "    return G"
   ]
  },
  {
   "cell_type": "code",
   "execution_count": 4,
   "metadata": {},
   "outputs": [
    {
     "output_type": "execute_result",
     "data": {
      "text/plain": "[[0, 1, 0, 1], [0, 0, 0, 1], [0, 1, 0, 1], [1, 0, 0, 0]]"
     },
     "metadata": {},
     "execution_count": 4
    }
   ],
   "source": [
    "readAM('graph1.txt')"
   ]
  },
  {
   "cell_type": "code",
   "execution_count": 5,
   "metadata": {},
   "outputs": [],
   "source": [
    "class Graph:\n",
    "    def __init__(self, V):\n",
    "        self.V = V\n",
    "        self.n = len(V)\n",
    "        self.mat = npm.zeros((n,n))\n",
    "    def edge(self, u, v):\n",
    "        self.mat[u][v] = 1\n",
    "        #if graph is directed add both ways\n",
    "        #self.mat[v][u] = 1"
   ]
  },
  {
   "cell_type": "code",
   "execution_count": null,
   "metadata": {},
   "outputs": [],
   "source": [
    "%%writeline graph3.txt\n",
    "#adjacency list\n",
    "1\n",
    "3\n",
    "1 3\n",
    "0"
   ]
  },
  {
   "cell_type": "code",
   "execution_count": 7,
   "metadata": {
    "tags": []
   },
   "outputs": [
    {
     "output_type": "stream",
     "name": "stderr",
     "text": "UsageError: Cell magic `%%writeline` not found.\n"
    }
   ],
   "source": [
    "%%writeline graph4.txt\n",
    "#adjacency list weighted\n",
    "B\n",
    "D\n",
    "B D\n",
    "A"
   ]
  },
  {
   "cell_type": "code",
   "execution_count": 8,
   "metadata": {},
   "outputs": [],
   "source": [
    "#adjacency list\n",
    "G = [[1],\n",
    "     [3],\n",
    "     [1,3],\n",
    "     [0]]"
   ]
  },
  {
   "cell_type": "code",
   "execution_count": null,
   "metadata": {},
   "outputs": [],
   "source": []
  }
 ],
 "metadata": {
  "kernelspec": {
   "display_name": "Python 3",
   "language": "python",
   "name": "python3"
  },
  "language_info": {
   "codemirror_mode": {
    "name": "ipython",
    "version": 3
   },
   "file_extension": ".py",
   "mimetype": "text/x-python",
   "name": "python",
   "nbconvert_exporter": "python",
   "pygments_lexer": "ipython3",
   "version": "3.8.3-final"
  }
 },
 "nbformat": 4,
 "nbformat_minor": 4
}