{
 "metadata": {
  "language_info": {
   "codemirror_mode": {
    "name": "ipython",
    "version": 3
   },
   "file_extension": ".py",
   "mimetype": "text/x-python",
   "name": "python",
   "nbconvert_exporter": "python",
   "pygments_lexer": "ipython3",
   "version": "3.8.3-final"
  },
  "orig_nbformat": 2,
  "kernelspec": {
   "name": "python_defaultSpec_1600650729297",
   "display_name": "Python 3.8.3 64-bit ('base': conda)"
  }
 },
 "nbformat": 4,
 "nbformat_minor": 2,
 "cells": [
  {
   "cell_type": "code",
   "execution_count": 7,
   "metadata": {},
   "outputs": [],
   "source": [
    "adj = [[1, 3],\n",
    "[0,2],\n",
    "[1,3],\n",
    "[0,1]]\n",
    "\n",
    "visited = []\n",
    "\n",
    "for i in range(len(adj)):\n",
    "    visited.append(False)\n",
    "\n",
    "def dfs(v):\n",
    "    visited[v] = True\n",
    "    print(\"I'm in node:\", v)\n",
    "    print(v,\"->\", adj[v])\n",
    "    for u in adj[v]:\n",
    "        if(visited[u] == False):\n",
    "            dfs(u)"
   ]
  },
  {
   "cell_type": "code",
   "execution_count": 8,
   "metadata": {
    "tags": []
   },
   "outputs": [
    {
     "output_type": "stream",
     "name": "stdout",
     "text": "I'm in node: 0\n0 -> [1, 3]\nI'm in node: 1\n1 -> [0, 2]\nI'm in node: 2\n2 -> [1, 2]\nI'm in node: 3\n3 -> [0, 1]\n"
    }
   ],
   "source": [
    "dfs(0)"
   ]
  },
  {
   "cell_type": "code",
   "execution_count": null,
   "metadata": {},
   "outputs": [],
   "source": []
  }
 ]
}