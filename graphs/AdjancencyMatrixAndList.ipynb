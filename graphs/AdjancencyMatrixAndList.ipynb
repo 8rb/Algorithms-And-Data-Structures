{
 "cells": [
  {
   "cell_type": "code",
   "execution_count": 9,
   "metadata": {},
   "outputs": [
    {
     "data": {
      "image/png": "[encoded data removed]",
      "text/plain": [
       "<Figure size 432x288 with 1 Axes>"
      ]
     },
     "metadata": {},
     "output_type": "display_data"
    }
   ],
   "source": [
    "import numpy as np\n",
    "import networkx as nx\n",
    "\n",
    "G = [[0, 1, 0, 1], \n",
    "     [0, 0, 0, 1], \n",
    "     [0, 1, 0, 1], \n",
    "     [1, 0, 0, 0]]\n",
    "\n",
    "def showG(G, directed=True):\n",
    "    g = nx.DiGraph() if directed else nx.Graph()\n",
    "    n = len(G)\n",
    "    for u in range(n):\n",
    "        g.add_node(u)\n",
    "    for u in range(n):\n",
    "        for v in range(n):\n",
    "            if G[u][v] != 0:\n",
    "                g.add_edge(u, v)\n",
    "    nx.draw(g, with_labels = True, node_color = 'orange', node_size=1500, alpha=.75)\n",
    "\n",
    "showG(G)"
   ]
  },
  {
   "cell_type": "code",
   "execution_count": 13,
   "metadata": {},
   "outputs": [
    {
     "name": "stdout",
     "output_type": "stream",
     "text": [
      "Overwriting graph1.txt\n"
     ]
    }
   ],
   "source": [
    "%%writefile graph1.txt\n",
    "0 1 0 1\n",
    "0 0 0 1\n",
    "0 1 0 1\n",
    "1 0 0 0"
   ]
  },
  {
   "cell_type": "code",
   "execution_count": 16,
   "metadata": {},
   "outputs": [],
   "source": [
    "def readAM(filename):\n",
    "    with open(filename) as f:\n",
    "        G = []\n",
    "        for line in f:\n",
    "            G.append([int(u) for u in line.strip().split(' ')])\n",
    "    return G"
   ]
  },
  {
   "cell_type": "code",
   "execution_count": 17,
   "metadata": {},
   "outputs": [
    {
     "data": {
      "text/plain": [
       "[[0, 1, 0, 1], [0, 0, 0, 1], [0, 1, 0, 1], [1, 0, 0, 0]]"
      ]
     },
     "execution_count": 17,
     "metadata": {},
     "output_type": "execute_result"
    }
   ],
   "source": [
    "readAM('graph1.txt')"
   ]
  },
  {
   "cell_type": "code",
   "execution_count": null,
   "metadata": {},
   "outputs": [],
   "source": [
    "class Graph:\n",
    "    def __init__(self, V):\n",
    "        self.V = V\n",
    "        self.n = len(V)\n",
    "        self.mat = npm.zeros((n,n))\n",
    "    def edge(self, u, v):\n",
    "        self.mat[u][v] = 1\n",
    "        #if graph is directed add both ways\n",
    "        #self.mat[v][u] = 1"
   ]
  },
  {
   "cell_type": "code",
   "execution_count": null,
   "metadata": {},
   "outputs": [],
   "source": [
    "%%writeline graph3.txt\n",
    "#adjacency list\n",
    "1\n",
    "3\n",
    "1 3\n",
    "0"
   ]
  },
  {
   "cell_type": "code",
   "execution_count": null,
   "metadata": {},
   "outputs": [],
   "source": [
    "%%writeline graph4.txt\n",
    "#adjacency list weighted\n",
    "B\n",
    "D\n",
    "B D\n",
    "A"
   ]
  },
  {
   "cell_type": "code",
   "execution_count": null,
   "metadata": {},
   "outputs": [],
   "source": [
    "#adjacency list\n",
    "G = [[1],\n",
    "     [3],\n",
    "     [1,3],\n",
    "     [0]]"
   ]
  }
 ],
 "metadata": {
  "kernelspec": {
   "display_name": "Python 3",
   "language": "python",
   "name": "python3"
  },
  "language_info": {
   "codemirror_mode": {
    "name": "ipython",
    "version": 3
   },
   "file_extension": ".py",
   "mimetype": "text/x-python",
   "name": "python",
   "nbconvert_exporter": "python",
   "pygments_lexer": "ipython3",
   "version": "3.8.3"
  }
 },
 "nbformat": 4,
 "nbformat_minor": 4
}
