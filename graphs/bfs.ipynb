{
 "metadata": {
  "language_info": {
   "codemirror_mode": {
    "name": "ipython",
    "version": 3
   },
   "file_extension": ".py",
   "mimetype": "text/x-python",
   "name": "python",
   "nbconvert_exporter": "python",
   "pygments_lexer": "ipython3",
   "version": "3.8.3-final"
  },
  "orig_nbformat": 2,
  "kernelspec": {
   "name": "python_defaultSpec_1600654660248",
   "display_name": "Python 3.8.3 64-bit ('base': conda)"
  }
 },
 "nbformat": 4,
 "nbformat_minor": 2,
 "cells": [
  {
   "cell_type": "code",
   "execution_count": 56,
   "metadata": {},
   "outputs": [],
   "source": [
    "from collections import deque"
   ]
  },
  {
   "cell_type": "code",
   "execution_count": 61,
   "metadata": {
    "tags": []
   },
   "outputs": [],
   "source": [
    "adj = [[1, 3],\n",
    "[0,2],\n",
    "[1,3],\n",
    "[0,1]]\n",
    "\n",
    "used = []\n",
    "s = 0\n",
    "q = []\n",
    "\n",
    "for i in range(len(adj)):\n",
    "    used.append(False)\n",
    "\n",
    "def bfs():\n",
    "    q.append(s)\n",
    "    used[s] = True\n",
    "    while(q):\n",
    "        v = q[0]\n",
    "        print(\"i'm in node:\", v)\n",
    "        q.pop(0)\n",
    "        for u in adj[v]:\n",
    "            if(used[u] == False):\n",
    "                used[u] = True\n",
    "                q.append(u)"
   ]
  },
  {
   "cell_type": "code",
   "execution_count": 62,
   "metadata": {
    "tags": []
   },
   "outputs": [
    {
     "output_type": "stream",
     "name": "stdout",
     "text": "i'm in node: 0\ni'm in node: 1\ni'm in node: 3\ni'm in node: 2\n"
    }
   ],
   "source": [
    "bfs()"
   ]
  },
  {
   "cell_type": "code",
   "execution_count": null,
   "metadata": {},
   "outputs": [],
   "source": []
  }
 ]
}