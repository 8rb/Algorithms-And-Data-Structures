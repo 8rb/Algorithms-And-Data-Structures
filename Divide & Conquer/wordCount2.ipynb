{
 "metadata": {
  "language_info": {
   "codemirror_mode": {
    "name": "ipython",
    "version": 3
   },
   "file_extension": ".py",
   "mimetype": "text/x-python",
   "name": "python",
   "nbconvert_exporter": "python",
   "pygments_lexer": "ipython3",
   "version": "3.8.3-final"
  },
  "orig_nbformat": 2,
  "kernelspec": {
   "name": "python_defaultSpec_1598929446334",
   "display_name": "Python 3.8.3 64-bit ('base': conda)"
  }
 },
 "nbformat": 4,
 "nbformat_minor": 2,
 "cells": [
  {
   "cell_type": "code",
   "execution_count": 1,
   "metadata": {},
   "outputs": [],
   "source": [
    "def wordCount(s, i, j, words):\n",
    "    if i == j:\n",
    "        if s[i] == \" \":\n",
    "            return words+1\n",
    "        else:\n",
    "            return 0\n",
    "    else:\n",
    "        med = (i+j)//2\n",
    "        left = wordCount(s, i, med, words)\n",
    "        right = wordCount(s, med+1, j, words)\n",
    "        return left+right"
   ]
  },
  {
   "cell_type": "code",
   "execution_count": 2,
   "metadata": {},
   "outputs": [
    {
     "output_type": "execute_result",
     "data": {
      "text/plain": "5"
     },
     "metadata": {},
     "execution_count": 2
    }
   ],
   "source": [
    "s = \"How many words are here?\"\n",
    "wordCount(s, 0, len(s)-1, 0) + 1"
   ]
  }
 ]
}