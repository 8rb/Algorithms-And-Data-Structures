{
 "metadata": {
  "language_info": {
   "codemirror_mode": {
    "name": "ipython",
    "version": 3
   },
   "file_extension": ".py",
   "mimetype": "text/x-python",
   "name": "python",
   "nbconvert_exporter": "python",
   "pygments_lexer": "ipython3",
   "version": "3.8.3-final"
  },
  "orig_nbformat": 2,
  "kernelspec": {
   "name": "python_defaultSpec_1600738163727",
   "display_name": "Python 3.8.3 64-bit ('base': conda)"
  }
 },
 "nbformat": 4,
 "nbformat_minor": 2,
 "cells": [
  {
   "cell_type": "code",
   "execution_count": 20,
   "metadata": {
    "tags": []
   },
   "outputs": [
    {
     "output_type": "stream",
     "name": "stdout",
     "text": "1 0 Delete 0.0 and 1.0\n3 0 Delete 1.0 and 2.0\n5 0 Delete 2.0 and 3.0\n7 0 Delete 3.0 and 4.0\n9 0 Delete 4.0 and 5.0\n11 0 Delete 5.0 and 6.0\n13 0 Delete 6.0 and 7.0\n15 0 Delete 7.0 and 8.0\n\n0 1 Delete 0.0 and 9.0\n1 1 Delete 4.5 and 5.5\n2 1 Delete 1.0 and 10.0\n3 1 Delete 5.5 and 6.5\n4 1 Delete 2.0 and 11.0\n5 1 Delete 6.5 and 7.5\n6 1 Delete 3.0 and 12.0\n7 1 Delete 7.5 and 8.5\n8 1 Delete 4.0 and 13.0\n9 1 Delete 8.5 and 9.5\n10 1 Delete 5.0 and 14.0\n11 1 Delete 9.5 and 10.5\n12 1 Delete 6.0 and 15.0\n13 1 Delete 10.5 and 11.5\n14 1 Delete 7.0 and 16.0\n15 1 Delete 11.5 and 12.5\n16 1 Delete 8.0 and 17.0\n\n1 2 Delete 9.0 and 10.0\n3 2 Delete 10.0 and 11.0\n5 2 Delete 11.0 and 12.0\n7 2 Delete 12.0 and 13.0\n9 2 Delete 13.0 and 14.0\n11 2 Delete 14.0 and 15.0\n13 2 Delete 15.0 and 16.0\n15 2 Delete 16.0 and 17.0\n\n0 3 Delete 9.0 and 18.0\n1 3 Delete 13.5 and 14.5\n2 3 Delete 10.0 and 19.0\n3 3 Delete 14.5 and 15.5\n4 3 Delete 11.0 and 20.0\n5 3 Delete 15.5 and 16.5\n6 3 Delete 12.0 and 21.0\n7 3 Delete 16.5 and 17.5\n8 3 Delete 13.0 and 22.0\n9 3 Delete 17.5 and 18.5\n10 3 Delete 14.0 and 23.0\n11 3 Delete 18.5 and 19.5\n12 3 Delete 15.0 and 24.0\n13 3 Delete 19.5 and 20.5\n14 3 Delete 16.0 and 25.0\n15 3 Delete 20.5 and 21.5\n16 3 Delete 17.0 and 26.0\n\n1 4 Delete 18.0 and 19.0\n3 4 Delete 19.0 and 20.0\n5 4 Delete 20.0 and 21.0\n7 4 Delete 21.0 and 22.0\n9 4 Delete 22.0 and 23.0\n11 4 Delete 23.0 and 24.0\n13 4 Delete 24.0 and 25.0\n15 4 Delete 25.0 and 26.0\n\n0 5 Delete 18.0 and 27.0\n1 5 Delete 22.5 and 23.5\n2 5 Delete 19.0 and 28.0\n3 5 Delete 23.5 and 24.5\n4 5 Delete 20.0 and 29.0\n5 5 Delete 24.5 and 25.5\n6 5 Delete 21.0 and 30.0\n7 5 Delete 25.5 and 26.5\n8 5 Delete 22.0 and 31.0\n9 5 Delete 26.5 and 27.5\n10 5 Delete 23.0 and 32.0\n11 5 Delete 27.5 and 28.5\n12 5 Delete 24.0 and 33.0\n13 5 Delete 28.5 and 29.5\n14 5 Delete 25.0 and 34.0\n15 5 Delete 29.5 and 30.5\n16 5 Delete 26.0 and 35.0\n\n1 6 Delete 27.0 and 28.0\n3 6 Delete 28.0 and 29.0\n5 6 Delete 29.0 and 30.0\n7 6 Delete 30.0 and 31.0\n9 6 Delete 31.0 and 32.0\n11 6 Delete 32.0 and 33.0\n13 6 Delete 33.0 and 34.0\n15 6 Delete 34.0 and 35.0\n\n0 7 Delete 27.0 and 36.0\n1 7 Delete 31.5 and 32.5\n2 7 Delete 28.0 and 37.0\n3 7 Delete 32.5 and 33.5\n4 7 Delete 29.0 and 38.0\n5 7 Delete 33.5 and 34.5\n6 7 Delete 30.0 and 39.0\n7 7 Delete 34.5 and 35.5\n8 7 Delete 31.0 and 40.0\n9 7 Delete 35.5 and 36.5\n10 7 Delete 32.0 and 41.0\n11 7 Delete 36.5 and 37.5\n12 7 Delete 33.0 and 42.0\n13 7 Delete 37.5 and 38.5\n14 7 Delete 34.0 and 43.0\n15 7 Delete 38.5 and 39.5\n16 7 Delete 35.0 and 44.0\n\n1 8 Delete 36.0 and 37.0\n3 8 Delete 37.0 and 38.0\n5 8 Delete 38.0 and 39.0\n7 8 Delete 39.0 and 40.0\n9 8 Delete 40.0 and 41.0\n11 8 Delete 41.0 and 42.0\n13 8 Delete 42.0 and 43.0\n15 8 Delete 43.0 and 44.0\n\n0 9 Delete 36.0 and 45.0\n1 9 Delete 40.5 and 41.5\n2 9 Delete 37.0 and 46.0\n3 9 Delete 41.5 and 42.5\n4 9 Delete 38.0 and 47.0\n5 9 Delete 42.5 and 43.5\n6 9 Delete 39.0 and 48.0\n7 9 Delete 43.5 and 44.5\n8 9 Delete 40.0 and 49.0\n9 9 Delete 44.5 and 45.5\n10 9 Delete 41.0 and 50.0\n11 9 Delete 45.5 and 46.5\n12 9 Delete 42.0 and 51.0\n13 9 Delete 46.5 and 47.5\n14 9 Delete 43.0 and 52.0\n15 9 Delete 47.5 and 48.5\n16 9 Delete 44.0 and 53.0\n\n1 10 Delete 45.0 and 46.0\n3 10 Delete 46.0 and 47.0\n5 10 Delete 47.0 and 48.0\n7 10 Delete 48.0 and 49.0\n9 10 Delete 49.0 and 50.0\n11 10 Delete 50.0 and 51.0\n13 10 Delete 51.0 and 52.0\n15 10 Delete 52.0 and 53.0\n\n0 11 Delete 45.0 and 54.0\n1 11 Delete 49.5 and 50.5\n2 11 Delete 46.0 and 55.0\n3 11 Delete 50.5 and 51.5\n4 11 Delete 47.0 and 56.0\n5 11 Delete 51.5 and 52.5\n6 11 Delete 48.0 and 57.0\n7 11 Delete 52.5 and 53.5\n8 11 Delete 49.0 and 58.0\n9 11 Delete 53.5 and 54.5\n10 11 Delete 50.0 and 59.0\n11 11 Delete 54.5 and 55.5\n12 11 Delete 51.0 and 60.0\n13 11 Delete 55.5 and 56.5\n14 11 Delete 52.0 and 61.0\n15 11 Delete 56.5 and 57.5\n16 11 Delete 53.0 and 62.0\n\n1 12 Delete 54.0 and 55.0\n3 12 Delete 55.0 and 56.0\n5 12 Delete 56.0 and 57.0\n7 12 Delete 57.0 and 58.0\n9 12 Delete 58.0 and 59.0\n11 12 Delete 59.0 and 60.0\n13 12 Delete 60.0 and 61.0\n15 12 Delete 61.0 and 62.0\n\n0 13 Delete 54.0 and 63.0\n1 13 Delete 58.5 and 59.5\n2 13 Delete 55.0 and 64.0\n3 13 Delete 59.5 and 60.5\n4 13 Delete 56.0 and 65.0\n5 13 Delete 60.5 and 61.5\n6 13 Delete 57.0 and 66.0\n7 13 Delete 61.5 and 62.5\n8 13 Delete 58.0 and 67.0\n9 13 Delete 62.5 and 63.5\n10 13 Delete 59.0 and 68.0\n11 13 Delete 63.5 and 64.5\n12 13 Delete 60.0 and 69.0\n13 13 Delete 64.5 and 65.5\n14 13 Delete 61.0 and 70.0\n15 13 Delete 65.5 and 66.5\n16 13 Delete 62.0 and 71.0\n\n1 14 Delete 63.0 and 64.0\n3 14 Delete 64.0 and 65.0\n5 14 Delete 65.0 and 66.0\n7 14 Delete 66.0 and 67.0\n9 14 Delete 67.0 and 68.0\n11 14 Delete 68.0 and 69.0\n13 14 Delete 69.0 and 70.0\n15 14 Delete 70.0 and 71.0\n\n0 15 Delete 63.0 and 72.0\n1 15 Delete 67.5 and 68.5\n2 15 Delete 64.0 and 73.0\n3 15 Delete 68.5 and 69.5\n4 15 Delete 65.0 and 74.0\n5 15 Delete 69.5 and 70.5\n6 15 Delete 66.0 and 75.0\n7 15 Delete 70.5 and 71.5\n8 15 Delete 67.0 and 76.0\n9 15 Delete 71.5 and 72.5\n10 15 Delete 68.0 and 77.0\n11 15 Delete 72.5 and 73.5\n12 15 Delete 69.0 and 78.0\n13 15 Delete 73.5 and 74.5\n14 15 Delete 70.0 and 79.0\n15 15 Delete 74.5 and 75.5\n16 15 Delete 71.0 and 80.0\n\n1 16 Delete 72.0 and 73.0\n3 16 Delete 73.0 and 74.0\n5 16 Delete 74.0 and 75.0\n7 16 Delete 75.0 and 76.0\n9 16 Delete 76.0 and 77.0\n11 16 Delete 77.0 and 78.0\n13 16 Delete 78.0 and 79.0\n15 16 Delete 79.0 and 80.0\n\nHay: 208 casillas\n"
    }
   ],
   "source": [
    "cont = 0\n",
    "for y in range(17):\n",
    "    for x in range(17):\n",
    "        if(y % 2 == 0 and x % 2 == 0):\n",
    "            continue\n",
    "        elif (x % 2 != 0):\n",
    "            #conexiones horizontales\n",
    "            num = (y*9+(x+1))/2\n",
    "            print(x, y,\"Delete\",num-1, \"and\", num)\n",
    "            cont+=1\n",
    "        else:\n",
    "            #conexiones verticales\n",
    "            num = ((y-1)*9+x)/2\n",
    "            if(x % 2 == 0 and y % 2 == 0)\n",
    "                print(x, y,\"Delete\",num, \"and\", num+9)\n",
    "                cont+=1\n",
    "    print(\"\")\n",
    "print(\"Hay:\", cont, \"casillas\")"
   ]
  },
  {
   "cell_type": "code",
   "execution_count": null,
   "metadata": {},
   "outputs": [],
   "source": []
  }
 ]
}